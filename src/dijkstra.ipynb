{
 "cells": [
  {
   "cell_type": "markdown",
   "metadata": {},
   "source": [
    "# Algoritmo de Dijkstra"
   ]
  },
  {
   "cell_type": "code",
   "execution_count": 5,
   "metadata": {},
   "outputs": [],
   "source": [
    "import heapq"
   ]
  },
  {
   "cell_type": "code",
   "execution_count": 6,
   "metadata": {},
   "outputs": [],
   "source": [
    "def dijkstra(graph, start):\n",
    "    '''\n",
    "    Parâmetros:\n",
    "    - Grafo (direcionado ou não direcionado) formado por um dicionário, onde cada chave é\n",
    "    um vértice e cada valor é um dicionário com seus respectivos vértices vizinhos e pesos..\n",
    "    - Vértice de início pertencente ao grafo.\n",
    "    Retorno:\n",
    "    - Dicionário com as menores distâncias para cada vértice do grafo, onde a chave é o\n",
    "    vértice e o valor é a menor distância.\n",
    "    '''\n",
    "    distances = {vertex: float('inf') for vertex in graph}\n",
    "    distances[start] = 0\n",
    "    min_priority_queue = [(0, start)]\n",
    "    while min_priority_queue:\n",
    "        current_distance, current_vertex = heapq.heappop(min_priority_queue)\n",
    "        if current_distance > distances[current_vertex]:\n",
    "            continue\n",
    "        for neighbor, weight in graph[current_vertex].items():\n",
    "            distance = current_distance + weight\n",
    "            if distance < distances[neighbor]:\n",
    "                distances[neighbor] = distance\n",
    "                heapq.heappush(min_priority_queue, (distance, neighbor))\n",
    "    return distances"
   ]
  },
  {
   "cell_type": "markdown",
   "metadata": {},
   "source": [
    "## Exemplo com um grafo direcionado"
   ]
  },
  {
   "cell_type": "markdown",
   "metadata": {},
   "source": [
    "![Directed graph](../.github/directed-graph.png)"
   ]
  },
  {
   "cell_type": "code",
   "execution_count": 7,
   "metadata": {},
   "outputs": [
    {
     "name": "stdout",
     "output_type": "stream",
     "text": [
      "A menor distância de A para A é 0\n",
      "A menor distância de A para B é 7\n",
      "A menor distância de A para C é 3\n",
      "A menor distância de A para D é 9\n",
      "A menor distância de A para E é 5\n"
     ]
    }
   ],
   "source": [
    "graph = {\n",
    "    'A': {'B': 10, 'C': 3},\n",
    "    'B': {'C': 1, 'D': 2},\n",
    "    'C': {'B': 4, 'D': 8, 'E': 2},\n",
    "    'D': {'E': 7},\n",
    "    'E': {'D': 9},\n",
    "}\n",
    "start = 'A'\n",
    "result = dijkstra(graph, start)\n",
    "for neighbor, distance in result.items():\n",
    "    print(f'A menor distância de {start} para {neighbor} é {distance}')"
   ]
  },
  {
   "cell_type": "markdown",
   "metadata": {},
   "source": [
    "## Exemplo para um grafo não direcionado"
   ]
  },
  {
   "cell_type": "markdown",
   "metadata": {},
   "source": [
    "![Undirected graph](../.github/undirected-graph.png)"
   ]
  },
  {
   "cell_type": "code",
   "execution_count": 8,
   "metadata": {},
   "outputs": [
    {
     "name": "stdout",
     "output_type": "stream",
     "text": [
      "A menor distância de A para A é 0\n",
      "A menor distância de A para B é 4\n",
      "A menor distância de A para C é 5\n",
      "A menor distância de A para D é 13\n",
      "A menor distância de A para E é 8\n",
      "A menor distância de A para F é 14\n"
     ]
    }
   ],
   "source": [
    "graph = {\n",
    "    'A': {'B': 4, 'C': 5},\n",
    "    'B': {'A': 4, 'C': 11, 'D': 9, 'E': 7},\n",
    "    'C': {'A': 5, 'B': 11, 'E': 3},\n",
    "    'D': {'B': 9, 'E': 13, 'F': 2},\n",
    "    'E': {'B': 7, 'C': 3, 'D': 13, 'F': 6},\n",
    "    'F': {'D': 2, 'E': 6},\n",
    "}\n",
    "start = 'A'\n",
    "result = dijkstra(graph, start)\n",
    "for neighbor, distance in result.items():\n",
    "    print(f'A menor distância de {start} para {neighbor} é {distance}')"
   ]
  }
 ],
 "metadata": {
  "kernelspec": {
   "display_name": "Python 3",
   "language": "python",
   "name": "python3"
  },
  "language_info": {
   "codemirror_mode": {
    "name": "ipython",
    "version": 3
   },
   "file_extension": ".py",
   "mimetype": "text/x-python",
   "name": "python",
   "nbconvert_exporter": "python",
   "pygments_lexer": "ipython3",
   "version": "3.11.4"
  }
 },
 "nbformat": 4,
 "nbformat_minor": 2
}
